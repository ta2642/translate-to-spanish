{
 "cells": [
  {
   "cell_type": "markdown",
   "id": "774797b9",
   "metadata": {
    "id": "774797b9"
   },
   "source": [
    "## seq2seq with attention\n",
    "## translator\n",
    "\n",
    "In this project we will be teaching a neural network to translate from English to Spanish.\n",
    "\n",
    "\n",
    "\n",
    "sequence to sequence network, in which two recurrent neural networks work together to transform one sequence to another. \n",
    "- An encoder network condenses an input sequence into a vector, \n",
    "- and a decoder network unfolds that vector into a new sequence.\n",
    "- we’ll use an attention mechanism, which lets the decoder learn to focus over a specific range of the input sequence.\n",
    "\n",
    "I use pytorch's tutorial here as a guidance, which builds a french to english translator- https://pytorch.org/tutorials/intermediate/seq2seq_translation_tutorial.html. Pytorch tutorial simplifies a lot of aspects, such as stripping all accent marks, including small training dataset and etc. \n",
    "\n",
    "For the Spanish translator, I built a more complex data pipeline that includes the accents in the words and larger range of sentences. The model used is also more complex. Lastly I do some hyperparameter tuning on the learning rate. \n",
    "\n"
   ]
  },
  {
   "cell_type": "markdown",
   "id": "R1CV8gElYSDr",
   "metadata": {
    "id": "R1CV8gElYSDr"
   },
   "source": [
    "## google colab components"
   ]
  },
  {
   "cell_type": "code",
   "execution_count": null,
   "id": "C5sW3C_TYRMC",
   "metadata": {
    "colab": {
     "base_uri": "https://localhost:8080/"
    },
    "id": "C5sW3C_TYRMC",
    "outputId": "2ad8893f-1aab-4e52-effb-274f0dd9861d"
   },
   "outputs": [
    {
     "name": "stdout",
     "output_type": "stream",
     "text": [
      "Mon Mar 14 21:31:09 2022       \n",
      "+-----------------------------------------------------------------------------+\n",
      "| NVIDIA-SMI 460.32.03    Driver Version: 460.32.03    CUDA Version: 11.2     |\n",
      "|-------------------------------+----------------------+----------------------+\n",
      "| GPU  Name        Persistence-M| Bus-Id        Disp.A | Volatile Uncorr. ECC |\n",
      "| Fan  Temp  Perf  Pwr:Usage/Cap|         Memory-Usage | GPU-Util  Compute M. |\n",
      "|                               |                      |               MIG M. |\n",
      "|===============================+======================+======================|\n",
      "|   0  Tesla P100-PCIE...  Off  | 00000000:00:04.0 Off |                    0 |\n",
      "| N/A   35C    P0    26W / 250W |      0MiB / 16280MiB |      0%      Default |\n",
      "|                               |                      |                  N/A |\n",
      "+-------------------------------+----------------------+----------------------+\n",
      "                                                                               \n",
      "+-----------------------------------------------------------------------------+\n",
      "| Processes:                                                                  |\n",
      "|  GPU   GI   CI        PID   Type   Process name                  GPU Memory |\n",
      "|        ID   ID                                                   Usage      |\n",
      "|=============================================================================|\n",
      "|  No running processes found                                                 |\n",
      "+-----------------------------------------------------------------------------+\n"
     ]
    }
   ],
   "source": [
    "gpu_info = !nvidia-smi\n",
    "gpu_info = '\\n'.join(gpu_info)\n",
    "if gpu_info.find('failed') >= 0:\n",
    "  print('Not connected to a GPU')\n",
    "else:\n",
    "  print(gpu_info)"
   ]
  },
  {
   "cell_type": "code",
   "execution_count": null,
   "id": "m7BFj2NIYmEW",
   "metadata": {
    "colab": {
     "base_uri": "https://localhost:8080/"
    },
    "id": "m7BFj2NIYmEW",
    "outputId": "ff1e6293-62e0-49ac-8298-bc2ae7322ba6"
   },
   "outputs": [
    {
     "name": "stdout",
     "output_type": "stream",
     "text": [
      "Mounted at /content/drive\n"
     ]
    }
   ],
   "source": [
    "from google.colab import drive\n",
    "drive.mount('/content/drive')"
   ]
  },
  {
   "cell_type": "code",
   "execution_count": null,
   "id": "wZowe2LvZcFa",
   "metadata": {
    "colab": {
     "base_uri": "https://localhost:8080/"
    },
    "id": "wZowe2LvZcFa",
    "outputId": "5a82528b-50d8-41b0-9bbf-c447ec2a744b"
   },
   "outputs": [
    {
     "name": "stdout",
     "output_type": "stream",
     "text": [
      "/content/drive/MyDrive/Colab Notebooks/translate-to-spanish\n"
     ]
    }
   ],
   "source": [
    "%cd /content/drive/MyDrive/Colab Notebooks/translate-to-spanish"
   ]
  },
  {
   "cell_type": "code",
   "execution_count": null,
   "id": "AxyRc5RPZfvd",
   "metadata": {
    "colab": {
     "base_uri": "https://localhost:8080/"
    },
    "id": "AxyRc5RPZfvd",
    "outputId": "b6744e22-e67f-44ed-bfd4-f7086939ff77"
   },
   "outputs": [
    {
     "name": "stdout",
     "output_type": "stream",
     "text": [
      "\u001b[0m\u001b[01;34mdata\u001b[0m/            loss_vs_iteration_model2.png  \u001b[01;34msaved_models\u001b[0m/\n",
      "\u001b[01;34mdata-processed\u001b[0m/  loss_vs_iteration_model3.png  translate-to-spanish.ipynb\n"
     ]
    }
   ],
   "source": [
    "%ls"
   ]
  },
  {
   "cell_type": "code",
   "execution_count": null,
   "id": "i3efqclSZCHA",
   "metadata": {
    "id": "i3efqclSZCHA"
   },
   "outputs": [],
   "source": [
    "PATH = '/content/drive/My Drive/Colab Notebooks/translate-to-spanish/'"
   ]
  },
  {
   "cell_type": "markdown",
   "id": "d2c72ba2",
   "metadata": {
    "id": "d2c72ba2"
   },
   "source": [
    "## data\n",
    "\n",
    "data/eng-fra.txt \n",
    "- tab separated list of translation pairs\n",
    "\n",
    "someone did the extra work of splitting language pairs into individual text files here: \n",
    "https://www.manythings.org/anki/\n"
   ]
  },
  {
   "cell_type": "code",
   "execution_count": null,
   "id": "75b72248",
   "metadata": {
    "id": "75b72248"
   },
   "outputs": [],
   "source": [
    "from __future__ import unicode_literals, print_function, division\n",
    "from io import open\n",
    "import unicodedata\n",
    "import string\n",
    "import re\n",
    "import random\n",
    "import pickle\n",
    "\n",
    "import torch\n",
    "import torch.nn as nn\n",
    "from torch import optim\n",
    "import torch.nn.functional as F\n",
    "\n",
    "import matplotlib.pyplot as plt\n",
    "import matplotlib.ticker as ticker\n",
    "import numpy as np"
   ]
  },
  {
   "cell_type": "code",
   "execution_count": null,
   "id": "efd5203b",
   "metadata": {
    "colab": {
     "base_uri": "https://localhost:8080/"
    },
    "id": "efd5203b",
    "outputId": "90f62f84-6021-420c-a2de-ecc9158e19b2"
   },
   "outputs": [
    {
     "name": "stdout",
     "output_type": "stream",
     "text": [
      "cuda\n"
     ]
    }
   ],
   "source": [
    "device = torch.device(\"cuda\" if torch.cuda.is_available() else \"cpu\")\n",
    "print(device)"
   ]
  },
  {
   "cell_type": "markdown",
   "id": "c0d948fe",
   "metadata": {
    "id": "c0d948fe"
   },
   "source": [
    "## data pre-processing\n",
    "\n"
   ]
  },
  {
   "cell_type": "code",
   "execution_count": null,
   "id": "1e1871b1",
   "metadata": {
    "id": "1e1871b1"
   },
   "outputs": [],
   "source": [
    "PAIRS = []\n",
    "SOS_token = 0\n",
    "EOS_token = 1\n",
    "\n",
    "class Language:\n",
    "    def __init__(self, name):\n",
    "        self.name = name\n",
    "        self.word2index = {}\n",
    "        self.word2count = {}\n",
    "        self.index2word = {0: \"SOS\", 1: \"EOS\"}\n",
    "        self.n_words = 2  # Count SOS and EOS\n",
    "    \n",
    "    def processSentence(self, sentence):\n",
    "        for word in sentence.split(' '):\n",
    "            self.addWord(word)\n",
    "\n",
    "    def addWord(self, word):\n",
    "        if word not in self.word2index:\n",
    "            self.word2index[word] = self.n_words\n",
    "            self.word2count[word] = 1\n",
    "            self.index2word[self.n_words] = word\n",
    "            self.n_words += 1\n",
    "        else:\n",
    "            self.word2count[word] += 1\n",
    "        "
   ]
  },
  {
   "cell_type": "code",
   "execution_count": null,
   "id": "2pWs_6ydNrIb",
   "metadata": {
    "colab": {
     "base_uri": "https://localhost:8080/"
    },
    "id": "2pWs_6ydNrIb",
    "outputId": "88b9275a-6206-426d-a5e2-6db55dd55ab7"
   },
   "outputs": [
    {
     "name": "stdout",
     "output_type": "stream",
     "text": [
      "Hey I am Yann, how are you and how is it going ? That is interesting: I would love to hear more about it.\n"
     ]
    }
   ],
   "source": [
    "'''\n",
    "replace contractions in english\n",
    "source: https://stackoverflow.com/questions/43018030/replace-apostrophe-short-words-in-python\n",
    "'''\n",
    "def decontracted(phrase):\n",
    "    # specific\n",
    "    phrase = re.sub(r\"won\\'t\", \"will not\", phrase)\n",
    "    phrase = re.sub(r\"can\\'t\", \"can not\", phrase)\n",
    "\n",
    "    # general\n",
    "    phrase = re.sub(r\"n\\'t\", \" not\", phrase)\n",
    "    phrase = re.sub(r\"\\'re\", \" are\", phrase)\n",
    "    phrase = re.sub(r\"\\'s\", \" is\", phrase)\n",
    "    phrase = re.sub(r\"\\'d\", \" would\", phrase)\n",
    "    phrase = re.sub(r\"\\'ll\", \" will\", phrase)\n",
    "    phrase = re.sub(r\"\\'t\", \" not\", phrase)\n",
    "    phrase = re.sub(r\"\\'ve\", \" have\", phrase)\n",
    "    phrase = re.sub(r\"\\'m\", \" am\", phrase)\n",
    "    return phrase\n",
    "\n",
    "test = \"Hey I'm Yann, how're you and how's it going ? That's interesting: I'd love to hear more about it.\"\n",
    "print(decontracted(test))\n",
    "# Hey I am Yann, how are you and how is it going ? That is interesting: I would love to hear more about it."
   ]
  },
  {
   "cell_type": "code",
   "execution_count": null,
   "id": "t0VUhDEOPA1Y",
   "metadata": {
    "id": "t0VUhDEOPA1Y"
   },
   "outputs": [],
   "source": [
    "# Lowercase, replace contractions, add space before and after punctuation\n",
    "def normalizeEnglish(s):\n",
    "    s = s.lower() \n",
    "    s = decontracted(s)\n",
    "    s = re.sub(r\"([.!?])\", r\" \\1\", s) #find puncts .!? and add space beforehand\n",
    "    return s\n",
    "\n",
    "# Lowercase, add space before and after punctuation\n",
    "def normalizeSpanish(s):\n",
    "    s = s.lower() \n",
    "    s = decontracted(s)\n",
    "    s = re.sub(r\"([.!?])\", r\" \\1\", s) #find puncts .!? and add space beforehand\n",
    "    s = s.replace('¡', '¡ ') #add space after punctuation\n",
    "    s = s.replace('¿', '¿ ')\n",
    "    return s"
   ]
  },
  {
   "cell_type": "code",
   "execution_count": null,
   "id": "224fa438",
   "metadata": {
    "id": "224fa438"
   },
   "outputs": [],
   "source": [
    "def readData(in_lang, out_lang):\n",
    "    input_lang = Language(in_lang)\n",
    "    output_lang = Language(out_lang)\n",
    "    \n",
    "    lines = open('data/spa.txt', encoding='utf-8').\\\n",
    "        read().strip().split('\\n')\n",
    "\n",
    "    # Split every line into pairs and normalize each\n",
    "    PAIRS = []\n",
    "    linecount = 0\n",
    "    for l in lines:\n",
    "      linecount+=1\n",
    "      pairs = l.split('\\t')[:2] #first & second are pairs, third tab not relevant\n",
    "      PAIRS.append([normalizeEnglish(pairs[0]),normalizeSpanish(pairs[1])])\n",
    "\n",
    "    #go through each pair & build Language Dictionary\n",
    "    for pair in PAIRS:\n",
    "      input_lang.processSentence(pair[0])\n",
    "      output_lang.processSentence(pair[1])\n",
    "        \n",
    "    return input_lang, output_lang, PAIRS\n",
    "              "
   ]
  },
  {
   "cell_type": "code",
   "execution_count": null,
   "id": "4cde64ad",
   "metadata": {
    "id": "4cde64ad"
   },
   "outputs": [],
   "source": [
    "input_lang, output_lang, PAIRS = readData('eng', 'spa')"
   ]
  },
  {
   "cell_type": "code",
   "execution_count": null,
   "id": "d0e32d97",
   "metadata": {
    "colab": {
     "base_uri": "https://localhost:8080/"
    },
    "id": "d0e32d97",
    "outputId": "2e7158df-c569-445b-cc42-2185704e415c"
   },
   "outputs": [
    {
     "name": "stdout",
     "output_type": "stream",
     "text": [
      "Number of sentences read:  138437\n"
     ]
    }
   ],
   "source": [
    "n_examples = len(PAIRS)\n",
    "print('Number of sentences read: ', n_examples)"
   ]
  },
  {
   "cell_type": "code",
   "execution_count": null,
   "id": "1a2be299",
   "metadata": {
    "colab": {
     "base_uri": "https://localhost:8080/"
    },
    "id": "1a2be299",
    "outputId": "6a20d66d-1b19-47e1-e33a-96447683aed5"
   },
   "outputs": [
    {
     "name": "stdout",
     "output_type": "stream",
     "text": [
      "number of input words in vocab (english)  16332\n",
      "number of output words in vocab (spanish)  30630\n",
      "example  ['why do not you get a haircut ?', '¿ por qué no te cortas el pelo ?']\n"
     ]
    }
   ],
   "source": [
    "print('number of input words in vocab (english) ', input_lang.n_words)\n",
    "print('number of output words in vocab (spanish) ', output_lang.n_words)\n",
    "print('example ', random.choice(PAIRS))"
   ]
  },
  {
   "cell_type": "code",
   "execution_count": null,
   "id": "645cc5a9",
   "metadata": {
    "colab": {
     "base_uri": "https://localhost:8080/"
    },
    "id": "645cc5a9",
    "outputId": "27b6f6ab-41bd-41f0-8b20-68544377ebdd"
   },
   "outputs": [
    {
     "name": "stdout",
     "output_type": "stream",
     "text": [
      "1758\n",
      "2873\n"
     ]
    }
   ],
   "source": [
    "print(input_lang.word2index['word'])\n",
    "print(output_lang.word2index['palabra'])"
   ]
  },
  {
   "cell_type": "markdown",
   "id": "30198f80",
   "metadata": {
    "id": "30198f80"
   },
   "source": [
    "### store language class as pickle objects"
   ]
  },
  {
   "cell_type": "code",
   "execution_count": null,
   "id": "27e7d0b6",
   "metadata": {
    "id": "27e7d0b6"
   },
   "outputs": [],
   "source": [
    "pickle_eng_out = open(\"data-processed/eng.pickle\", \"wb\")\n",
    "pickle.dump(input_lang, pickle_eng_out )\n",
    "pickle_eng_out.close()\n",
    "\n",
    "pickle_spa_out = open(\"data-processed/spa.pickle\", \"wb\")\n",
    "pickle.dump(output_lang, pickle_spa_out )\n",
    "pickle_spa_out.close()"
   ]
  },
  {
   "cell_type": "code",
   "execution_count": null,
   "id": "0xSQMY84SNg3",
   "metadata": {
    "id": "0xSQMY84SNg3"
   },
   "outputs": [],
   "source": [
    "import pickle\n",
    "\n",
    "txt = \"hi\"\n",
    "pickle_out = open(\"test.pickle\", \"wb\")\n",
    "pickle.dump(txt, pickle_out)\n",
    "pickle_out.close()\n"
   ]
  },
  {
   "cell_type": "code",
   "execution_count": null,
   "id": "Z3z7NtTcSqYV",
   "metadata": {
    "colab": {
     "base_uri": "https://localhost:8080/"
    },
    "id": "Z3z7NtTcSqYV",
    "outputId": "e2d8409b-9a35-47e1-f0d9-2f2e4f989cbc"
   },
   "outputs": [
    {
     "name": "stdout",
     "output_type": "stream",
     "text": [
      "hi\n"
     ]
    }
   ],
   "source": [
    "pickle_in = open(\"test.pickle\", \"rb\")\n",
    "text_in = pickle.load(pickle_in)\n",
    "print(text_in)"
   ]
  },
  {
   "cell_type": "markdown",
   "id": "af2a2b85",
   "metadata": {
    "id": "af2a2b85"
   },
   "source": [
    "### load language class as pickle objects"
   ]
  },
  {
   "cell_type": "code",
   "execution_count": null,
   "id": "49913d0f",
   "metadata": {
    "id": "49913d0f"
   },
   "outputs": [],
   "source": [
    "pickle_eng_in = open(\"data-processed/eng.pickle\", \"rb\")\n",
    "pickle_spa_in = open(\"data-processed/spa.pickle\", \"rb\")\n",
    "input_lang = pickle.load(pickle_eng_in)\n",
    "output_lang = pickle.load(pickle_spa_in)"
   ]
  },
  {
   "cell_type": "code",
   "execution_count": null,
   "id": "0b5bea83",
   "metadata": {
    "colab": {
     "base_uri": "https://localhost:8080/"
    },
    "id": "0b5bea83",
    "outputId": "14d081ed-d533-4f58-c814-6cff61055407"
   },
   "outputs": [
    {
     "name": "stdout",
     "output_type": "stream",
     "text": [
      "1758\n",
      "2873\n"
     ]
    }
   ],
   "source": [
    "print(input_lang.word2index['word'])\n",
    "print(output_lang.word2index['palabra'])"
   ]
  },
  {
   "cell_type": "markdown",
   "id": "3294e07e",
   "metadata": {
    "id": "3294e07e"
   },
   "source": [
    "### filter pairs to reduce sentences to embed"
   ]
  },
  {
   "cell_type": "code",
   "execution_count": null,
   "id": "0ae0bd4d",
   "metadata": {
    "colab": {
     "base_uri": "https://localhost:8080/"
    },
    "id": "0ae0bd4d",
    "outputId": "b863c6e1-de9f-43f0-d18b-c2ab1699c712"
   },
   "outputs": [
    {
     "name": "stdout",
     "output_type": "stream",
     "text": [
      "example  ['some people gain weight when they quit smoking .', 'algunas personas engordan cuando dejan de fumar .']\n"
     ]
    }
   ],
   "source": [
    "print('example ', random.choice(PAIRS))"
   ]
  },
  {
   "cell_type": "code",
   "execution_count": null,
   "id": "i1ZKTeS4w5NL",
   "metadata": {
    "colab": {
     "base_uri": "https://localhost:8080/"
    },
    "id": "i1ZKTeS4w5NL",
    "outputId": "45245b0a-8c7a-4af2-9787-83d6641fb5cb"
   },
   "outputs": [
    {
     "name": "stdout",
     "output_type": "stream",
     "text": [
      "[['you should have attended today is meeting .', 'tenías que haber asistido a la reunión de hoy .'], ['he is not a smoker .', 'él no es fumador .'], ['let is keep this a secret .', 'mantengamos esto en secreto .'], ['who is that man ?', '¿ quién es ese hombre ?'], ['ask the waitress for the menu .', 'pídale el menú a la camarera .'], ['her hair did not look dyed .', 'su pelo no se veía teñido .'], ['it is quiet .', 'es silencioso .'], ['why worry about it ?', '¿ por qué preocuparse ?'], ['what time do you want me to pick you up ?', '¿ a qué hora quieres que te pase a buscar ?'], ['mary is sewing baby clothes .', 'mary está cosiendo ropa de bebé .']]\n"
     ]
    }
   ],
   "source": [
    "ex = random.sample(PAIRS,10)\n",
    "print(ex)"
   ]
  },
  {
   "cell_type": "code",
   "execution_count": null,
   "id": "54de91cb",
   "metadata": {
    "id": "54de91cb"
   },
   "outputs": [],
   "source": [
    "#filter pairs by length & \n",
    "MAX_LENGTH = 10\n",
    "\n",
    "eng_prefixes = (\n",
    "    \"i am \", \n",
    "    \"he is\", \n",
    "    \"she is\", \n",
    "    \"you are\", \n",
    "    \"we are\", \n",
    "    \"they are\"\n",
    ")\n",
    "def filterCondition(p):\n",
    "    return len(p[0].split(' ')) < MAX_LENGTH and \\\n",
    "        len(p[1].split(' ')) < MAX_LENGTH and \\\n",
    "        p[0].startswith(eng_prefixes)\n",
    "    \n",
    "def filterPairs(pairs):\n",
    "    return [pair for pair in pairs if filterCondition(pair)]\n"
   ]
  },
  {
   "cell_type": "code",
   "execution_count": null,
   "id": "6039f07d",
   "metadata": {
    "colab": {
     "base_uri": "https://localhost:8080/"
    },
    "id": "6039f07d",
    "outputId": "5a5cd6f8-9e6c-47dc-fca0-ece54bd01b1f"
   },
   "outputs": [
    {
     "name": "stdout",
     "output_type": "stream",
     "text": [
      "138437 8483\n"
     ]
    }
   ],
   "source": [
    "pairs_filtered = filterPairs(PAIRS)\n",
    "print(len(PAIRS), len(pairs_filtered))"
   ]
  },
  {
   "cell_type": "code",
   "execution_count": null,
   "id": "Dm0Jvf9sRlxn",
   "metadata": {
    "colab": {
     "base_uri": "https://localhost:8080/"
    },
    "id": "Dm0Jvf9sRlxn",
    "outputId": "65747152-37e3-432e-ec38-62b1785fd089"
   },
   "outputs": [
    {
     "name": "stdout",
     "output_type": "stream",
     "text": [
      "[['i am not a kid .', '¡ no soy un niño !'], ['they are both in the room .', 'los dos están en la pieza .'], ['we are expecting a good harvest this year .', 'este año esperamos una buena cosecha .'], ['she is in the hospital now .', 'ella ahora está en el hospital .'], ['i am always in a bad mood .', 'estoy siempre malhumorado .'], ['we are with you .', 'estamos con vos .'], ['he is just a kid .', 'solo es un niño .'], ['she is a wonderful woman .', 'ella es una mujer maravillosa .'], ['you are so predictable .', 'eres tan predecible .'], ['they are interns .', 'están en prácticas .']]\n"
     ]
    }
   ],
   "source": [
    "ex = random.sample(pairs_filtered,10)\n",
    "print(ex)"
   ]
  },
  {
   "cell_type": "markdown",
   "id": "kko6yNYtRtze",
   "metadata": {
    "id": "kko6yNYtRtze"
   },
   "source": [
    "### convert words to tensor"
   ]
  },
  {
   "cell_type": "code",
   "execution_count": null,
   "id": "98db896e",
   "metadata": {
    "id": "98db896e"
   },
   "outputs": [],
   "source": [
    "def indexesFromSentence(lang, sentence):\n",
    "    return [lang.word2index[word] for word in sentence.split(' ')]\n",
    "\n",
    "def tensorFromSentence(lang, sentence):\n",
    "    indexes = indexesFromSentence(lang, sentence)\n",
    "    indexes.append(EOS_token)\n",
    "    return torch.tensor(indexes, dtype=torch.long, device=device).view(-1, 1)\n",
    "\n",
    "def tensorsFromPair(pair):\n",
    "    input_tensor = tensorFromSentence(input_lang, pair[0])\n",
    "    target_tensor = tensorFromSentence(output_lang, pair[1])\n",
    "    return (input_tensor, target_tensor)\n"
   ]
  },
  {
   "cell_type": "code",
   "execution_count": null,
   "id": "03ee4197",
   "metadata": {
    "colab": {
     "base_uri": "https://localhost:8080/"
    },
    "id": "03ee4197",
    "outputId": "02d1c459-f9b3-4c14-cea0-95f417473253"
   },
   "outputs": [
    {
     "name": "stdout",
     "output_type": "stream",
     "text": [
      "['i am a bank employee .', 'soy empleado de un banco .']\n",
      "i 20\n",
      "am 54\n",
      "a 132\n",
      "bank 2295\n",
      "employee 4054\n",
      ". 3\n",
      "soy 224\n",
      "empleado 8129\n",
      "de 109\n",
      "un 181\n",
      "banco 4794\n",
      ". 3\n",
      "[20, 54, 132, 2295, 4054, 3]\n",
      "[20, 54, 132, 2295, 4054, 3, 1]\n"
     ]
    }
   ],
   "source": [
    "sample = random.choice(pairs_filtered)\n",
    "print(sample)\n",
    "sent1 = sample[0]\n",
    "ind1 = []\n",
    "for word in sent1.split(' '):\n",
    "    print(word, input_lang.word2index[word])\n",
    "    ind1.append(input_lang.word2index[word])\n",
    "for word in sample[1].split(' '):\n",
    "    print(word, output_lang.word2index[word])\n",
    "    \n",
    "print(ind1)\n",
    "ind1.append(EOS_token)\n",
    "print(ind1)"
   ]
  },
  {
   "cell_type": "code",
   "execution_count": null,
   "id": "97931c67",
   "metadata": {
    "colab": {
     "base_uri": "https://localhost:8080/"
    },
    "id": "97931c67",
    "outputId": "eea264cf-b3f1-4e0a-aed6-7f60a62e4750"
   },
   "outputs": [
    {
     "name": "stdout",
     "output_type": "stream",
     "text": [
      "torch.Size([7, 1])\n",
      "torch.Size([7, 1])\n"
     ]
    }
   ],
   "source": [
    "print(torch.tensor(ind1, dtype=torch.long, device=device).view(-1,1).size())\n",
    "print(torch.tensor(ind1, dtype=torch.long, device=device).unsqueeze(1).size())"
   ]
  },
  {
   "cell_type": "markdown",
   "id": "qkdW8PSqTBIk",
   "metadata": {
    "id": "qkdW8PSqTBIk"
   },
   "source": [
    "## utils: measuring training time functions"
   ]
  },
  {
   "cell_type": "code",
   "execution_count": null,
   "id": "fabda9bf",
   "metadata": {
    "id": "fabda9bf"
   },
   "outputs": [],
   "source": [
    "import time\n",
    "import math\n",
    "\n",
    "\n",
    "def asMinutes(s):\n",
    "    m = math.floor(s / 60)\n",
    "    s -= m * 60\n",
    "    return '%dm %ds' % (m, s)\n",
    "\n",
    "\n",
    "def timeSince(since, percent):\n",
    "    now = time.time()\n",
    "    s = now - since\n",
    "    es = s / (percent)\n",
    "    rs = es - s\n",
    "    return '%s (- %s)' % (asMinutes(s), asMinutes(rs))\n",
    "\n",
    "import matplotlib.pyplot as plt\n",
    "plt.switch_backend('agg')\n",
    "import matplotlib.ticker as ticker\n",
    "import numpy as np\n",
    "\n",
    "\n",
    "def showPlot(points):\n",
    "    plt.figure()\n",
    "    fig, ax = plt.subplots()\n",
    "    # this locator puts ticks at regular intervals\n",
    "    loc = ticker.MultipleLocator(base=0.2)\n",
    "    ax.yaxis.set_major_locator(loc)\n",
    "    plt.plot(points)"
   ]
  },
  {
   "cell_type": "markdown",
   "id": "1Xvneko1TaVA",
   "metadata": {
    "id": "1Xvneko1TaVA"
   },
   "source": [
    "## Model"
   ]
  },
  {
   "cell_type": "markdown",
   "id": "30262f87",
   "metadata": {
    "id": "30262f87"
   },
   "source": [
    "### create model"
   ]
  },
  {
   "cell_type": "code",
   "execution_count": null,
   "id": "9d9606b8",
   "metadata": {
    "id": "9d9606b8"
   },
   "outputs": [],
   "source": [
    "class EncoderRNN(nn.Module):\n",
    "    def __init__(self, input_size, hidden_size):\n",
    "        super(EncoderRNN, self).__init__()\n",
    "        self.hidden_size = hidden_size\n",
    "        \n",
    "        self.embedding = nn.Embedding(input_size, hidden_size)\n",
    "        self.gru = nn.GRU(hidden_size, hidden_size)\n",
    "        \n",
    "    def forward(self, input, hidden):\n",
    "        #convert input to embedding\n",
    "        embedded = self.embedding(input).view(1, 1, -1)\n",
    "        output = embedded\n",
    "        #pass embedding to gru\n",
    "        output, hidden = self.gru(output, hidden)\n",
    "        return output, hidden\n",
    "\n",
    "    def initHidden(self):\n",
    "        return torch.zeros(1, 1, self.hidden_size, device=device)\n",
    "    "
   ]
  },
  {
   "cell_type": "code",
   "execution_count": null,
   "id": "c8fc5534",
   "metadata": {
    "id": "c8fc5534"
   },
   "outputs": [],
   "source": [
    "class DecoderRNN(nn.Module):\n",
    "    def __init__(self, hidden_size, output_size):\n",
    "        super(DecoderRNN, self).__init__()\n",
    "        self.hidden_size = hidden_size\n",
    "\n",
    "        self.embedding = nn.Embedding(output_size, hidden_size)\n",
    "        self.gru = nn.GRU(hidden_size, hidden_size)\n",
    "        self.out = nn.Linear(hidden_size, output_size)\n",
    "        self.softmax = nn.LogSoftmax(dim=1)\n",
    "\n",
    "    def forward(self, input, hidden):\n",
    "        output = self.embedding(input).view(1, 1, -1)\n",
    "        output = F.relu(output)\n",
    "        output, hidden = self.gru(output, hidden)\n",
    "        output = self.softmax(self.out(output[0]))\n",
    "        return output, hidden\n",
    "\n",
    "    def initHidden(self):\n",
    "        return torch.zeros(1, 1, self.hidden_size, device=device)"
   ]
  },
  {
   "cell_type": "code",
   "execution_count": null,
   "id": "09bf572c",
   "metadata": {
    "id": "09bf572c"
   },
   "outputs": [],
   "source": [
    "class AttnDecoderRNN(nn.Module):\n",
    "    def __init__(self, hidden_size, output_size, dropout_p=0.1, max_length=MAX_LENGTH):\n",
    "        super(AttnDecoderRNN, self).__init__()\n",
    "        self.hidden_size = hidden_size\n",
    "        self.output_size = output_size\n",
    "        self.dropout_p = dropout_p\n",
    "        self.max_length = max_length\n",
    "\n",
    "        self.embedding = nn.Embedding(self.output_size, self.hidden_size)\n",
    "        self.attn = nn.Linear(self.hidden_size * 2, self.max_length)\n",
    "        self.attn_combine = nn.Linear(self.hidden_size * 2, self.hidden_size)\n",
    "        self.dropout = nn.Dropout(self.dropout_p)\n",
    "        self.gru = nn.GRU(self.hidden_size, self.hidden_size)\n",
    "        self.out = nn.Linear(self.hidden_size, self.output_size)\n",
    "\n",
    "    def forward(self, input, hidden, encoder_outputs):\n",
    "        embedded = self.embedding(input).view(1, 1, -1)\n",
    "        embedded = self.dropout(embedded)\n",
    "\n",
    "        attn_weights = F.softmax(\n",
    "            self.attn(torch.cat((embedded[0], hidden[0]), 1)), dim=1)\n",
    "        attn_applied = torch.bmm(attn_weights.unsqueeze(0),\n",
    "                                 encoder_outputs.unsqueeze(0))\n",
    "\n",
    "        output = torch.cat((embedded[0], attn_applied[0]), 1)\n",
    "        output = self.attn_combine(output).unsqueeze(0)\n",
    "\n",
    "        output = F.relu(output)\n",
    "        output, hidden = self.gru(output, hidden)\n",
    "\n",
    "        output = F.log_softmax(self.out(output[0]), dim=1)\n",
    "        return output, hidden, attn_weights\n",
    "\n",
    "    def initHidden(self):\n",
    "        return torch.zeros(1, 1, self.hidden_size, device=device)"
   ]
  },
  {
   "cell_type": "markdown",
   "id": "bc404a01",
   "metadata": {
    "id": "bc404a01"
   },
   "source": [
    "### train sequence\n",
    "\n",
    "#### **train function**\n",
    "\n",
    "\n",
    "#### **train iteration**\n",
    "What it does\n",
    "1. starts timer\n",
    "2. initializes encoder & decoder optimizer\n",
    "3. initilatizes Loss function (criterion)\n",
    "4. generates training_pairs = number of iterations\n",
    "  - gets a random sample from pairs_filtered\n",
    "  - calls tensorsFromPair to convert to tensor\n",
    "\n",
    "5. For each iteration:\n",
    "  - selects one from training_pairs at that iteration #\n",
    "  - input_tensor and output_tensor\n",
    "  - sends to train() function and gets back loss number\n",
    "    - input_tensor, target_tensor, \n",
    "    - encoder, decoder, \n",
    "    - encoder_optimizer, decoder_optimizer, \n",
    "    - criterion\n",
    "  - prints loss & time"
   ]
  },
  {
   "cell_type": "markdown",
   "id": "YODEWuz-Wbfj",
   "metadata": {
    "id": "YODEWuz-Wbfj"
   },
   "source": [
    "### train\n",
    "Steps\n",
    "1. Receives input & target tensor, encoder, decoder, optimizers, loss function\n",
    "2. initializes encoder_hidder\n",
    "3. sets encoder_optimizer & decoder_optimizer to zero_grad()\n",
    "4. encoder_outputs initialized to zero\n",
    "5. loss initialized to zero\n",
    "6. encoder, for each word in input:\n",
    "    - pass to encoder\n",
    "    - get back encoder_output & encoder_hidden\n",
    " \n",
    "\n",
    "7. decoder\n",
    "  - for it on target_length\n",
    "  - Performs an inference - that is, gets predictions\n",
    "  - Calculates the loss on decoder output vs target output for each word\n",
    "  - sums loss\n",
    "\n",
    "\n",
    "8. Loss propagated backwards- calculates backward gradients over the learning weights\n",
    "9. Encoder_optimizer & decoder_optimizer takes step\n",
    "  - aka tells the optimizer to perform one learning step  \n",
    "  - this adjusts the model’s learning weights based on the observed gradients for this batch, according to the optimization algorithm we chose\n",
    "10. send loss back as sum of loss at each step/target_length"
   ]
  },
  {
   "cell_type": "code",
   "execution_count": null,
   "id": "12976b5e",
   "metadata": {
    "id": "12976b5e"
   },
   "outputs": [],
   "source": [
    "teacher_forcing_ratio = 0.5\n",
    "\n",
    "def train(input_tensor, target_tensor, encoder, decoder, encoder_optimizer, decoder_optimizer, criterion, max_length=MAX_LENGTH):\n",
    "    encoder_hidden = encoder.initHidden()\n",
    "\n",
    "    encoder_optimizer.zero_grad()\n",
    "    decoder_optimizer.zero_grad()\n",
    "\n",
    "    input_length = input_tensor.size(0)\n",
    "    target_length = target_tensor.size(0)\n",
    "    #print(\"inpute length \", input_length, \"target length\", target_length)\n",
    "\n",
    "    encoder_outputs = torch.zeros(max_length, encoder.hidden_size, device=device)\n",
    "\n",
    "    loss = 0\n",
    "\n",
    "    for ei in range(input_length):\n",
    "        encoder_output, encoder_hidden = encoder(\n",
    "            input_tensor[ei], encoder_hidden)\n",
    "        encoder_outputs[ei] = encoder_output[0, 0]\n",
    "\n",
    "    decoder_input = torch.tensor([[SOS_token]], device=device)\n",
    "\n",
    "    decoder_hidden = encoder_hidden\n",
    "\n",
    "    use_teacher_forcing = True if random.random() < teacher_forcing_ratio else False\n",
    "\n",
    "    if use_teacher_forcing:\n",
    "        # Teacher forcing: Feed the target as the next input\n",
    "        for di in range(target_length):\n",
    "            decoder_output, decoder_hidden, decoder_attention = decoder(\n",
    "                decoder_input, decoder_hidden, encoder_outputs)\n",
    "            loss += criterion(decoder_output, target_tensor[di])\n",
    "            decoder_input = target_tensor[di]  # Teacher forcing\n",
    "\n",
    "    else:\n",
    "        # Without teacher forcing: use its own predictions as the next input\n",
    "        for di in range(target_length):\n",
    "            decoder_output, decoder_hidden, decoder_attention = decoder(\n",
    "                decoder_input, decoder_hidden, encoder_outputs)\n",
    "            #print('decoder_attention size ', decoder_attention.size())\n",
    "            #print('decoder_output size ', decoder_output.size())\n",
    "            #print('decoder_hidden size ', decoder_hidden.size())\n",
    "            topv, topi = decoder_output.topk(1)\n",
    "            decoder_input = topi.squeeze().detach()  # detach from history as input\n",
    "            loss += criterion(decoder_output, target_tensor[di])\n",
    "            if decoder_input.item() == EOS_token:\n",
    "                break\n",
    "\n",
    "    loss.backward()\n",
    "\n",
    "    encoder_optimizer.step()\n",
    "    decoder_optimizer.step()\n",
    "    \n",
    "    return loss.item() / target_length"
   ]
  },
  {
   "cell_type": "code",
   "execution_count": null,
   "id": "6084b26d",
   "metadata": {
    "colab": {
     "base_uri": "https://localhost:8080/"
    },
    "id": "6084b26d",
    "outputId": "8f84d5a3-dd66-47c6-d676-713b66fe3220"
   },
   "outputs": [
    {
     "name": "stdout",
     "output_type": "stream",
     "text": [
      "(tensor([[ 37],\n",
      "        [104],\n",
      "        [500],\n",
      "        [347],\n",
      "        [261],\n",
      "        [  3],\n",
      "        [  1]], device='cuda:0'), tensor([[  77],\n",
      "        [1151],\n",
      "        [2081],\n",
      "        [ 109],\n",
      "        [ 327],\n",
      "        [ 560],\n",
      "        [   3],\n",
      "        [   1]], device='cuda:0'))\n",
      "input tensor size  torch.Size([7, 1])\n",
      "target tensor size  torch.Size([8, 1])\n"
     ]
    }
   ],
   "source": [
    "\n",
    "training_pair = tensorsFromPair(random.choice(pairs_filtered))\n",
    "print(training_pair)\n",
    "input_tensor = training_pair[0]\n",
    "target_tensor = training_pair[1]\n",
    "print('input tensor size ', input_tensor.size()) #9 by 1\n",
    "print('target tensor size ', target_tensor.size()) #7 by 1\n",
    "hidden_size = 256\n",
    "learning_rate = 0.01\n",
    "\n",
    "encoder = EncoderRNN(input_lang.n_words, hidden_size)\n",
    "decoder = AttnDecoderRNN(hidden_size, output_lang.n_words, dropout_p=0.1)\n",
    "encoder.to(device)\n",
    "decoder.to(device)\n",
    "encoder_optimizer = optim.SGD(encoder.parameters(), lr=learning_rate)\n",
    "decoder_optimizer = optim.SGD(decoder.parameters(), lr=learning_rate)\n",
    "criterion = nn.NLLLoss()  \n",
    "\n",
    "\n",
    "loss = train(input_tensor, target_tensor, encoder,\n",
    "                     decoder, encoder_optimizer, decoder_optimizer, criterion)\n"
   ]
  },
  {
   "cell_type": "markdown",
   "id": "vN3TWOZUTGtY",
   "metadata": {
    "id": "vN3TWOZUTGtY"
   },
   "source": [
    "### train iterations\n"
   ]
  },
  {
   "cell_type": "code",
   "execution_count": null,
   "id": "c042a703",
   "metadata": {
    "id": "c042a703"
   },
   "outputs": [],
   "source": [
    "def trainIters(encoder, decoder, n_iters, print_every=1000, plot_every=100, learning_rate=0.001):\n",
    "    start = time.time()\n",
    "    plot_losses = []\n",
    "    plot_losses_x = []\n",
    "    print_loss_total = 0  # Reset every print_every\n",
    "    plot_loss_total = 0  # Reset every plot_every\n",
    "\n",
    "    encoder_optimizer = optim.Adam(encoder.parameters(), lr=learning_rate)\n",
    "    decoder_optimizer = optim.Adam(decoder.parameters(), lr=learning_rate)\n",
    "    criterion = nn.NLLLoss()\n",
    "\n",
    "    training_pairs = [tensorsFromPair(random.choice(pairs_filtered))\n",
    "                      for i in range(n_iters)]\n",
    "   \n",
    "\n",
    "    for iter in range(1, n_iters + 1):\n",
    "        training_pair = training_pairs[iter - 1]\n",
    "        input_tensor = training_pair[0]\n",
    "        target_tensor = training_pair[1]\n",
    "\n",
    "        loss = train(input_tensor, target_tensor, encoder,\n",
    "                     decoder, encoder_optimizer, decoder_optimizer, criterion)\n",
    "        print_loss_total += loss\n",
    "        plot_loss_total += loss\n",
    "\n",
    "        if iter % print_every == 0:\n",
    "            print_loss_avg = print_loss_total / print_every\n",
    "            print_loss_total = 0\n",
    "            print('%s (%d %d%%) %.4f' % (timeSince(start, iter / n_iters),\n",
    "                                         iter, iter / n_iters * 100, print_loss_avg))\n",
    "\n",
    "        if iter % plot_every == 0:\n",
    "            plot_loss_avg = plot_loss_total / plot_every\n",
    "            plot_losses.append(plot_loss_avg)\n",
    "            plot_losses_x.append(iter)\n",
    "            plot_loss_total = 0\n",
    "\n",
    "    end = time.time()\n",
    "    total_time = end - start\n",
    "\n",
    "    return plot_losses, plot_losses_x, total_time"
   ]
  },
  {
   "cell_type": "code",
   "execution_count": null,
   "id": "RtceJvTToSi1",
   "metadata": {
    "id": "RtceJvTToSi1"
   },
   "outputs": [],
   "source": [
    "time_vs_iteration = []\n",
    "loss_vs_iteration = []"
   ]
  },
  {
   "cell_type": "code",
   "execution_count": null,
   "id": "e8b0a7cd",
   "metadata": {
    "colab": {
     "base_uri": "https://localhost:8080/"
    },
    "id": "e8b0a7cd",
    "outputId": "eea413eb-64e2-4427-938d-d3d5fdb72aaa"
   },
   "outputs": [
    {
     "name": "stdout",
     "output_type": "stream",
     "text": [
      "1m 29s (- 23m 53s) (5000 5%) 3.6370\n",
      "2m 53s (- 21m 44s) (10000 11%) 2.6472\n",
      "4m 17s (- 20m 3s) (15000 17%) 2.2210\n",
      "5m 41s (- 18m 30s) (20000 23%) 1.9516\n",
      "7m 5s (- 17m 1s) (25000 29%) 1.7620\n",
      "8m 30s (- 15m 35s) (30000 35%) 1.6791\n",
      "9m 54s (- 14m 8s) (35000 41%) 1.5956\n",
      "11m 17s (- 12m 42s) (40000 47%) 1.5146\n",
      "12m 41s (- 11m 17s) (45000 52%) 1.4619\n",
      "14m 6s (- 9m 52s) (50000 58%) 1.4372\n",
      "15m 30s (- 8m 27s) (55000 64%) 1.3665\n",
      "16m 54s (- 7m 2s) (60000 70%) 1.3745\n",
      "18m 18s (- 5m 38s) (65000 76%) 1.3130\n",
      "19m 42s (- 4m 13s) (70000 82%) 1.3214\n",
      "21m 7s (- 2m 49s) (75000 88%) 1.2620\n",
      "22m 31s (- 1m 24s) (80000 94%) 1.2326\n",
      "23m 56s (- 0m 0s) (85000 100%) 1.1887\n"
     ]
    }
   ],
   "source": [
    "hidden_size = 256\n",
    "n_iters = 85000\n",
    "\n",
    "encoder3 = EncoderRNN(input_lang.n_words, hidden_size).to(device)\n",
    "attn_decoder3 = AttnDecoderRNN(hidden_size, output_lang.n_words, dropout_p=0.1).to(device)\n",
    "\n",
    "plot_losses, plot_losses_x, total_time = trainIters(encoder3, attn_decoder3, n_iters, print_every=5000)"
   ]
  },
  {
   "cell_type": "code",
   "execution_count": null,
   "id": "g45gOkwQnpAU",
   "metadata": {
    "id": "g45gOkwQnpAU"
   },
   "outputs": [],
   "source": [
    "time_vs_iteration.append(['m3', n_iters, total_time])\n",
    "loss_vs_iteration.append(['m3', n_iters, plot_losses[-1]])"
   ]
  },
  {
   "cell_type": "code",
   "execution_count": null,
   "id": "PE-V1B8p3eCG",
   "metadata": {
    "colab": {
     "base_uri": "https://localhost:8080/"
    },
    "id": "PE-V1B8p3eCG",
    "outputId": "14285e97-c46f-497b-9b07-da4adf3033bd"
   },
   "outputs": [
    {
     "name": "stdout",
     "output_type": "stream",
     "text": [
      "[['m1', 5000, 70.11749505996704], ['m1', 50000, 699.68], ['m2', 50000, 839.716450214386], ['m3', 85000, 1436.4116787910461]]\n",
      "[['m1', 5000, 3.727539761823321], ['m1', 50000, 1.3542006827136353], ['m2', 50000, 1.3695086798078964], ['m3', 85000, 1.2922771894781595]]\n"
     ]
    }
   ],
   "source": [
    "print(time_vs_iteration)\n",
    "print(loss_vs_iteration)"
   ]
  },
  {
   "cell_type": "code",
   "execution_count": null,
   "id": "R7q8XIBkh6nO",
   "metadata": {
    "colab": {
     "base_uri": "https://localhost:8080/",
     "height": 313
    },
    "id": "R7q8XIBkh6nO",
    "outputId": "d6eaadc4-c810-429b-d578-8fc6671fc9a8"
   },
   "outputs": [
    {
     "data": {
      "image/png": "[encoded data removed]",
      "text/plain": [
       "<Figure size 432x288 with 1 Axes>"
      ]
     },
     "metadata": {
      "needs_background": "light"
     },
     "output_type": "display_data"
    },
    {
     "data": {
      "text/plain": [
       "<Figure size 432x288 with 0 Axes>"
      ]
     },
     "metadata": {},
     "output_type": "display_data"
    }
   ],
   "source": [
    "%matplotlib inline\n",
    "plt.plot(plot_losses_x, plot_losses)\n",
    "plt.xlabel('number of iterations')\n",
    "plt.ylabel('loss')\n",
    "plt.title('Model 3, Adam: {Lr 0.001, niter = 85,000, hidden size = 256}')\n",
    "plt.show()\n",
    "plt.savefig('loss_vs_iteration_model3.png')"
   ]
  },
  {
   "cell_type": "markdown",
   "id": "VAdrUPQZTLoq",
   "metadata": {
    "id": "VAdrUPQZTLoq"
   },
   "source": [
    "## evaluation"
   ]
  },
  {
   "cell_type": "code",
   "execution_count": null,
   "id": "d09371ee",
   "metadata": {
    "id": "d09371ee"
   },
   "outputs": [],
   "source": [
    "def evaluate(sentence, input_lang,  encoder, decoder,max_length=MAX_LENGTH):\n",
    "    with torch.no_grad():\n",
    "        input_tensor = tensorFromSentence(input_lang, sentence)\n",
    "        input_length = input_tensor.size(0)\n",
    "        \n",
    "        encoder_hidden = encoder.initHidden()\n",
    "        encoder_outputs = torch.zeros(max_length, encoder.hidden_size, device=device)\n",
    "        \n",
    "        for ei in range(input_length):\n",
    "            encoder_output, encoder_hidden = encoder(\n",
    "                input_tensor[ei], encoder_hidden)\n",
    "            encoder_outputs[ei] = encoder_output[0, 0]\n",
    "        \n",
    "        decoder_input = torch.tensor([[SOS_token]], device=device)\n",
    "\n",
    "        decoder_hidden = encoder_hidden\n",
    "        decoded_words = []\n",
    "        \n",
    "        for di in range(max_length):\n",
    "            decoder_output, decoder_hidden, decoder_attention = decoder(\n",
    "                decoder_input, decoder_hidden, encoder_outputs)\n",
    "            topv, topi = decoder_output.topk(1)\n",
    "            if topi.item() == EOS_token:\n",
    "                decoded_words.append('<EOS>')\n",
    "                break\n",
    "            else:\n",
    "                decoded_words.append(output_lang.index2word[topi.item()])\n",
    "                \n",
    "            decoder_input = topi.squeeze().detach()  # detach from history as input\n",
    "    return decoded_words"
   ]
  },
  {
   "cell_type": "code",
   "execution_count": null,
   "id": "32d76d8e",
   "metadata": {
    "id": "32d76d8e"
   },
   "outputs": [],
   "source": [
    "sentence = 'i am happy .'"
   ]
  },
  {
   "cell_type": "code",
   "execution_count": null,
   "id": "87919018",
   "metadata": {
    "colab": {
     "base_uri": "https://localhost:8080/"
    },
    "id": "87919018",
    "outputId": "ef10b213-0573-4d22-e130-a8406e49c72e"
   },
   "outputs": [
    {
     "name": "stdout",
     "output_type": "stream",
     "text": [
      "she is forgotten how to do it .\n"
     ]
    }
   ],
   "source": [
    "sentence = random.choice(pairs_filtered)[0]\n",
    "print(sentence)"
   ]
  },
  {
   "cell_type": "code",
   "execution_count": null,
   "id": "173398e8",
   "metadata": {
    "colab": {
     "base_uri": "https://localhost:8080/"
    },
    "id": "173398e8",
    "outputId": "c46bb91a-c5e9-4709-c97a-8fdf8b65d5d9"
   },
   "outputs": [
    {
     "name": "stdout",
     "output_type": "stream",
     "text": [
      "['ha', 'olvidado', 'hacerlo', 'modo', '.', '<EOS>']\n"
     ]
    }
   ],
   "source": [
    "print(evaluate(sentence,input_lang,encoder2, attn_decoder2))"
   ]
  },
  {
   "cell_type": "code",
   "execution_count": null,
   "id": "K5_E91icrr7P",
   "metadata": {
    "colab": {
     "base_uri": "https://localhost:8080/"
    },
    "id": "K5_E91icrr7P",
    "outputId": "40f229fd-3927-4619-a5d2-ba9ee42b1fb3"
   },
   "outputs": [
    {
     "name": "stdout",
     "output_type": "stream",
     "text": [
      "> i am an adult .\n",
      "= soy adulto .\n",
      "< soy adulta . <EOS>\n",
      "\n",
      "> she is busy cooking dinner .\n",
      "= ella está ocupada preparando la cena .\n",
      "< ella está ocupada preparando . <EOS>\n",
      "\n",
      "> they are interesting people .\n",
      "= ellos son gente interesante .\n",
      "< son son . <EOS>\n",
      "\n",
      "> we are ambidextrous .\n",
      "= somos ambidextros .\n",
      "< estamos seguros . <EOS>\n",
      "\n",
      "> i am a bit drunk .\n",
      "= estoy un poquito borracho .\n",
      "< estoy un poco borracho . <EOS>\n",
      "\n",
      "> i am tom .\n",
      "= soy tom .\n",
      "< soy tom . <EOS>\n",
      "\n",
      "> i am in jail .\n",
      "= estoy en la cárcel .\n",
      "< estoy en la cárcel . <EOS>\n",
      "\n",
      "> she is not much of a poet .\n",
      "= no es una buena poetisa .\n",
      "< no es un buen lo que . <EOS>\n",
      "\n",
      "> he is no longer here .\n",
      "= él ya no está aquí .\n",
      "< él ya no está . <EOS>\n",
      "\n",
      "> you are all crazy .\n",
      "= todos estáis locos .\n",
      "< todos estáis locos . <EOS>\n",
      "\n"
     ]
    }
   ],
   "source": [
    "def evaluateRandomly(input_lang, encoder, decoder, n=10):\n",
    "    for i in range(n):\n",
    "        pair = random.choice(pairs_filtered)\n",
    "        print('>', pair[0])\n",
    "        print('=', pair[1])\n",
    "        output_words = evaluate(pair[0], input_lang, encoder, decoder)\n",
    "        output_sentence = ' '.join(output_words)\n",
    "        print('<', output_sentence)\n",
    "        print('')\n",
    "\n",
    "evaluateRandomly(input_lang,encoder3, attn_decoder3)"
   ]
  },
  {
   "cell_type": "markdown",
   "id": "6941655a",
   "metadata": {
    "id": "6941655a"
   },
   "source": [
    "### save model weights"
   ]
  },
  {
   "cell_type": "markdown",
   "id": "-UqHeYHls8Kt",
   "metadata": {
    "id": "-UqHeYHls8Kt"
   },
   "source": [
    "**Model 1:**\n",
    "- encoder_lr0.01_hs256_niter50000_engprefix\n",
    "- attn decoder\n",
    "- SGD, lr 0.01\n",
    "  - n_iters = 50,000\n",
    "  - eng prefix only, 8483 sentences\n",
    "  - epochs ~5.89\n",
    "  - hidden size = 256\n",
    "  - max length 10\n",
    "  - dropout 0.1\n",
    "  - teacher forcing 0.5\n",
    "- time: 699.68seconds, 11 minutes\n",
    "- loss at end: 1.4106\n",
    "\n",
    "**Model 2:**\n",
    "- encoder_lr0.001_hs256_niter50000_engprefix\n",
    "- attn decoder\n",
    "- Adam, lr 0.001\n",
    "  - n_iters = 50,000\n",
    "  - eng prefix only, 8483 sentences\n",
    "  - epochs ~5.89\n",
    "  - hidden size = 256\n",
    "  - max length 10\n",
    "  - dropout 0.1\n",
    "  - teacher forcing 0.5\n",
    "- time: 839.71 (14 min)\n",
    "- loss at end: 1.42\n",
    "\n",
    "**Model 3:**\n",
    "- encoder_lr0.001_hs256_niter85000_engprefix\n",
    "- attn decoder\n",
    "- Adam, lr 0.001\n",
    "  - n_iters = 85,000\n",
    "  - eng prefix only, 8483 sentences\n",
    "  - epochs ~10\n",
    "  - hidden size = 256\n",
    "  - max length 10\n",
    "  - dropout 0.1\n",
    "  - teacher forcing 0.5\n",
    "- time: 1436.411 (24 min)\n",
    "- loss at end: 1.29"
   ]
  },
  {
   "cell_type": "code",
   "execution_count": null,
   "id": "4d85bd44",
   "metadata": {
    "id": "4d85bd44"
   },
   "outputs": [],
   "source": [
    "torch.save(encoder3.state_dict(), 'saved_models/encoder_3.h5')"
   ]
  },
  {
   "cell_type": "markdown",
   "id": "Wz5WqpGh-y_t",
   "metadata": {
    "id": "Wz5WqpGh-y_t"
   },
   "source": [
    "##### encoder 2 rewritten by encoder 3 :("
   ]
  },
  {
   "cell_type": "code",
   "execution_count": null,
   "id": "89d73f1a",
   "metadata": {
    "id": "89d73f1a"
   },
   "outputs": [],
   "source": [
    "torch.save(attn_decoder3.state_dict(), 'saved_models/decoder_3.h5')"
   ]
  },
  {
   "cell_type": "code",
   "execution_count": null,
   "id": "3f04bf35",
   "metadata": {
    "colab": {
     "base_uri": "https://localhost:8080/"
    },
    "id": "3f04bf35",
    "outputId": "538eb9b8-51a3-4b7b-e9b5-66b3795a1c54"
   },
   "outputs": [
    {
     "data": {
      "text/plain": [
       "<All keys matched successfully>"
      ]
     },
     "execution_count": 19,
     "metadata": {},
     "output_type": "execute_result"
    }
   ],
   "source": [
    "hidden_size = 256\n",
    "encoder_1_load = EncoderRNN(input_lang.n_words, hidden_size).to(device)\n",
    "attn_decoder_1_load = AttnDecoderRNN(hidden_size, output_lang.n_words, dropout_p=0.1).to(device)\n",
    "\n",
    "encoder_1_load.load_state_dict(torch.load('saved_models/encoder_3.h5'))\n",
    "attn_decoder_1_load.load_state_dict(torch.load('saved_models/decoder_3.h5'))\n"
   ]
  },
  {
   "cell_type": "code",
   "execution_count": null,
   "id": "bf49529b",
   "metadata": {
    "colab": {
     "base_uri": "https://localhost:8080/"
    },
    "id": "bf49529b",
    "outputId": "602b91a0-aa5b-41fd-d119-c093e326887c"
   },
   "outputs": [
    {
     "name": "stdout",
     "output_type": "stream",
     "text": [
      "she is good at imitating him .\n"
     ]
    }
   ],
   "source": [
    "sentence = random.choice(pairs_filtered)[0]\n",
    "print(sentence)"
   ]
  },
  {
   "cell_type": "code",
   "execution_count": null,
   "id": "ae2653b5",
   "metadata": {
    "colab": {
     "base_uri": "https://localhost:8080/"
    },
    "id": "ae2653b5",
    "outputId": "cf6b9c3d-b497-4ae7-98d1-742f01404990"
   },
   "outputs": [
    {
     "name": "stdout",
     "output_type": "stream",
     "text": [
      "['soy', 'feliz', '.', '<EOS>']\n"
     ]
    }
   ],
   "source": [
    "print(evaluate(sentence,input_lang,encoder_1_load, attn_decoder_1_load))"
   ]
  },
  {
   "cell_type": "code",
   "execution_count": null,
   "id": "cbFIJfd85FSU",
   "metadata": {
    "id": "cbFIJfd85FSU"
   },
   "outputs": [],
   "source": [
    "l = ['soy', 'feliz', '.', '<EOS>']"
   ]
  },
  {
   "cell_type": "code",
   "execution_count": null,
   "id": "oqs2ni4s5Iff",
   "metadata": {
    "colab": {
     "base_uri": "https://localhost:8080/"
    },
    "id": "oqs2ni4s5Iff",
    "outputId": "e201f6f4-1acc-41ec-c733-acd2df6942b1"
   },
   "outputs": [
    {
     "name": "stdout",
     "output_type": "stream",
     "text": [
      "soy feliz .\n"
     ]
    }
   ],
   "source": [
    "s= ' '.join(l[:-1])\n",
    "print(s)"
   ]
  },
  {
   "cell_type": "code",
   "execution_count": null,
   "id": "GfqEPaxG5hm9",
   "metadata": {
    "colab": {
     "base_uri": "https://localhost:8080/"
    },
    "id": "GfqEPaxG5hm9",
    "outputId": "c73dd31e-fc71-4f36-a330-5f580fc68919"
   },
   "outputs": [
    {
     "name": "stdout",
     "output_type": "stream",
     "text": [
      "soy feliz.\n"
     ]
    }
   ],
   "source": [
    "import re\n",
    "s= re.sub(r'\\s([?.!\"](?:\\s|$))', r'\\1', s)\n",
    "\n",
    "print(s)"
   ]
  }
 ],
 "metadata": {
  "accelerator": "GPU",
  "colab": {
   "collapsed_sections": [],
   "name": "translate-to-spanish.ipynb",
   "provenance": []
  },
  "kernelspec": {
   "display_name": "Python 3 (ipykernel)",
   "language": "python",
   "name": "python3"
  },
  "language_info": {
   "codemirror_mode": {
    "name": "ipython",
    "version": 3
   },
   "file_extension": ".py",
   "mimetype": "text/x-python",
   "name": "python",
   "nbconvert_exporter": "python",
   "pygments_lexer": "ipython3",
   "version": "3.9.7"
  }
 },
 "nbformat": 4,
 "nbformat_minor": 5
}
